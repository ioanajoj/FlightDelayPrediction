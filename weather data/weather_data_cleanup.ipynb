{
 "cells": [
  {
   "cell_type": "code",
   "execution_count": 1,
   "metadata": {},
   "outputs": [],
   "source": [
    "import pandas as pd\n",
    "import numpy as np"
   ]
  },
  {
   "cell_type": "code",
   "execution_count": 2,
   "metadata": {},
   "outputs": [],
   "source": [
    "filename='72061600207'"
   ]
  },
  {
   "cell_type": "code",
   "execution_count": 181,
   "metadata": {},
   "outputs": [],
   "source": [
    "# load file\n",
    "df = pd.read_csv(filename + '.csv')\n",
    "# keep only relevant columns\n",
    "columns = ['STATION', 'DATE', 'REPORT_TYPE', 'HourlyDryBulbTemperature', 'HourlyPrecipitation', \n",
    "             'HourlyStationPressure', 'HourlyVisibility', 'HourlyWindSpeed']\n",
    "df = df[columns]"
   ]
  },
  {
   "cell_type": "code",
   "execution_count": 182,
   "metadata": {},
   "outputs": [],
   "source": [
    "# keep only REPORT_TYPE FM-15 = METAR Aviation routine weather report => hourly report for whole month\n",
    "df = df[df.REPORT_TYPE == 'FM-15']\n",
    "df = df.drop(columns=['REPORT_TYPE'])"
   ]
  },
  {
   "cell_type": "code",
   "execution_count": 183,
   "metadata": {},
   "outputs": [],
   "source": [
    "def clean_up(df, column_name):\n",
    "    # some rows contain numeric values followed by letters, while some are null\n",
    "    # convert everything to string => 54 = '54', '72s' = '72s', nan = 'nan'\n",
    "    df[column_name] = df[column_name].astype(str)\n",
    "    # Remove all letters => 54 = '54', '72s' = '72', nan = ''\n",
    "    df[column_name] = df[column_name].replace('[A-Za-z]+','', regex=True)\n",
    "    # Change '' back to valid nan: np.nan\n",
    "    df[column_name] = df[column_name].str.replace('^$', lambda _: np.nan)\n",
    "    # Replace * with np.nan\n",
    "    df[column_name] = df[column_name].str.replace('\\*', lambda _: np.nan)\n",
    "    # Convert back to numeric all numeric values, nan remains none\n",
    "    df[column_name] = pd.to_numeric(df[column_name])\n",
    "    # Fill left nan with average values\n",
    "    df[column_name] = (df[column_name].fillna(method='ffill') + df[column_name].fillna(method='bfill'))/2\n",
    "    # Fill boundary nan values \n",
    "    df[column_name] = df[column_name].fillna(method='bfill')\n",
    "    df[column_name] = df[column_name].fillna(method='ffill')\n",
    "    return df[column_name]"
   ]
  },
  {
   "cell_type": "code",
   "execution_count": 184,
   "metadata": {},
   "outputs": [],
   "source": [
    "df.HourlyDryBulbTemperature = clean_up(df, 'HourlyDryBulbTemperature')\n",
    "df.HourlyPrecipitation = clean_up(df, 'HourlyPrecipitation')\n",
    "df.HourlyStationPressure = clean_up(df, 'HourlyStationPressure')\n",
    "df.HourlyVisibility = clean_up(df, 'HourlyVisibility')\n",
    "df.HourlyWindSpeed = clean_up(df, 'HourlyWindSpeed')"
   ]
  },
  {
   "cell_type": "code",
   "execution_count": 186,
   "metadata": {},
   "outputs": [],
   "source": [
    "df.to_csv(filename + '-filtered.csv', index=False)"
   ]
  }
 ],
 "metadata": {
  "kernelspec": {
   "display_name": "Python 3",
   "language": "python",
   "name": "python3"
  },
  "language_info": {
   "codemirror_mode": {
    "name": "ipython",
    "version": 3
   },
   "file_extension": ".py",
   "mimetype": "text/x-python",
   "name": "python",
   "nbconvert_exporter": "python",
   "pygments_lexer": "ipython3",
   "version": "3.8.2"
  }
 },
 "nbformat": 4,
 "nbformat_minor": 4
}
