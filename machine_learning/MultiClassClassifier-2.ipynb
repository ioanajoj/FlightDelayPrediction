{
 "cells": [
  {
   "cell_type": "code",
   "execution_count": 1,
   "metadata": {
    "colab": {},
    "colab_type": "code",
    "id": "kpYdU33E_zyE"
   },
   "outputs": [],
   "source": [
    "import pandas as pd\n",
    "import numpy as np\n",
    "import tensorflow as tf"
   ]
  },
  {
   "cell_type": "code",
   "execution_count": 2,
   "metadata": {},
   "outputs": [],
   "source": [
    "df_05 = pd.read_csv('data/merged-05-2019.csv')\n",
    "df_06 = pd.read_csv('data/merged-06-2019.csv')\n",
    "df_07 = pd.read_csv('data/merged-07-2019.csv')\n",
    "df_08 = pd.read_csv('data/merged-08-2019.csv')"
   ]
  },
  {
   "cell_type": "code",
   "execution_count": 3,
   "metadata": {
    "colab": {},
    "colab_type": "code",
    "id": "s5UJYYDOKCcr"
   },
   "outputs": [],
   "source": [
    "df = pd.concat([df_05, df_06, df_07, df_08], ignore_index=True)\n",
    "#, df_08, df_09, df_10, df_11, df_12"
   ]
  },
  {
   "cell_type": "code",
   "execution_count": 4,
   "metadata": {},
   "outputs": [],
   "source": [
    "%reset_selective -f \"^df_\""
   ]
  },
  {
   "cell_type": "code",
   "execution_count": 5,
   "metadata": {
    "colab": {},
    "colab_type": "code",
    "id": "P-I2uzFT_3Vj"
   },
   "outputs": [],
   "source": [
    "df = df[['carrier_code', 'day', 'weekday', 'month', 'origin_airport', 'destination_airport', \n",
    "          'scheduled_elapsed_time', 'scheduled_departure_dt', 'scheduled_arrival_dt',\n",
    "          'STATION_x', 'HourlyDryBulbTemperature_x', 'HourlyPrecipitation_x', 'HourlyVisibility_x', 'HourlyWindSpeed_x',\n",
    "          'STATION_y', 'HourlyDryBulbTemperature_y', 'HourlyPrecipitation_y', 'HourlyVisibility_y', 'HourlyWindSpeed_y',\n",
    "          'arrival_delay', 'cancelled_code']]\n",
    "# drop unknown data \n",
    "df = df.dropna(subset=['STATION_x', 'STATION_y'])\n",
    "\n",
    "# datetime to minutes from midnight\n",
    "# scheduled departure\n",
    "df['scheduled_departure_dt'] = pd.to_datetime(df['scheduled_departure_dt']).dt.hour * 60 + pd.to_datetime(df['scheduled_departure_dt']).dt.minute\n",
    "minutes_in_day = 24*60\n",
    "df['sin_scheduled_departure'] = np.sin(2*np.pi*df['scheduled_departure_dt']/minutes_in_day)\n",
    "df['cos_scheduled_departure'] = np.cos(2*np.pi*df['scheduled_departure_dt']/minutes_in_day)\n",
    "# scheduled arrival\n",
    "df['scheduled_arrival_dt'] = pd.to_datetime(df['scheduled_arrival_dt']).dt.hour * 60 + pd.to_datetime(df['scheduled_arrival_dt']).dt.minute\n",
    "minutes_in_day = 24*60\n",
    "df['sin_scheduled_arrival'] = np.sin(2*np.pi*df['scheduled_arrival_dt']/minutes_in_day)\n",
    "df['cos_scheduled_arrival'] = np.cos(2*np.pi*df['scheduled_arrival_dt']/minutes_in_day)\n",
    "\n",
    "# construct output\n",
    "# 0 - cancelled flights\n",
    "# 1 - delayed flights\n",
    "# 2 - on time\n",
    "def make_binary_output(row):\n",
    "    if row['cancelled_code'] != 'N' or row['arrival_delay'] > 30:\n",
    "      return 1\n",
    "    return 0\n",
    "def make_multi_output(row):\n",
    "    if row['cancelled_code'] != 'N':\n",
    "      return 2\n",
    "    if row['arrival_delay'] > 30:\n",
    "      return 1\n",
    "    return 0\n",
    "df['output'] = df.apply(make_multi_output, axis=1)\n",
    "\n",
    "# drop extra columns\n",
    "df = df.drop(columns=['cancelled_code', 'arrival_delay', 'scheduled_departure_dt', 'scheduled_arrival_dt', 'STATION_x', 'STATION_y'])\n",
    "df = df.dropna()"
   ]
  },
  {
   "cell_type": "code",
   "execution_count": 20,
   "metadata": {
    "colab": {},
    "colab_type": "code",
    "id": "b_gUtbLRpTuO"
   },
   "outputs": [],
   "source": [
    "# retrieve numpy array\n",
    "dataset = df.values\n",
    "# split into input and output variables\n",
    "X = dataset[:, :-1]\n",
    "y = dataset[:, -1]\n",
    "# format all fields as string\n",
    "# X = X.astype(str)\n",
    "y = y.astype(int)"
   ]
  },
  {
   "cell_type": "code",
   "execution_count": 7,
   "metadata": {
    "colab": {},
    "colab_type": "code",
    "id": "vz2JRaMb_41h"
   },
   "outputs": [],
   "source": [
    "emb_cols = ['carrier_code', 'day', 'weekday', 'month', 'origin_airport', 'destination_airport']\n",
    "simple_cols = ['scheduled_elapsed_time',\n",
    "             'HourlyDryBulbTemperature_x', 'HourlyPrecipitation_x', 'HourlyVisibility_x', 'HourlyWindSpeed_x',\n",
    "             'HourlyDryBulbTemperature_y', 'HourlyPrecipitation_y', 'HourlyVisibility_y', 'HourlyWindSpeed_y',\n",
    "              'sin_scheduled_departure', 'cos_scheduled_departure', 'sin_scheduled_arrival', 'cos_scheduled_arrival']"
   ]
  },
  {
   "cell_type": "code",
   "execution_count": 8,
   "metadata": {
    "colab": {},
    "colab_type": "code",
    "id": "ihG1Z2gm_8f5"
   },
   "outputs": [],
   "source": [
    "# prepare embedding inputs\n",
    "from sklearn.preprocessing import OrdinalEncoder\n",
    "\n",
    "# prepare input data\n",
    "def prepare_embedding_inputs(X, emb_cols):\n",
    "    les = []\n",
    "    X_emb = np.empty((len(emb_cols), len(X)), dtype='int') \n",
    "    for i, column_name in enumerate(emb_cols):\n",
    "      le = OrdinalEncoder()\n",
    "      le.fit(X[:, i].reshape(-1, 1))\n",
    "      enc = le.transform(X[:, i].reshape(-1, 1)).reshape(-1)\n",
    "      X_emb[i] = enc\n",
    "      les.append(le)\n",
    "    return X_emb, les\n",
    "\n",
    "X_emb, les = prepare_embedding_inputs(X, emb_cols)"
   ]
  },
  {
   "cell_type": "code",
   "execution_count": 9,
   "metadata": {
    "colab": {
     "base_uri": "https://localhost:8080/",
     "height": 119
    },
    "colab_type": "code",
    "id": "kq4CsBXx_-Jv",
    "outputId": "65e5f92a-ca1e-4f4b-c219-a28b0e979ac5"
   },
   "outputs": [],
   "source": [
    "# prepare simple inputs\n",
    "from sklearn.preprocessing import PowerTransformer, MinMaxScaler\n",
    "\n",
    "# prepare input data\n",
    "def prepare_simple_inputs(X, simple_cols):\n",
    "    X_simple = np.empty((len(simple_cols), len(X)))\n",
    "    simple_dt = df[simple_cols].to_numpy()\n",
    "    transformer = MinMaxScaler()\n",
    "    X_simple = transformer.fit_transform(simple_dt)\n",
    "    return X_simple, transformer\n",
    "\n",
    "X_simple, ss = prepare_simple_inputs(X, simple_cols)"
   ]
  },
  {
   "cell_type": "code",
   "execution_count": 10,
   "metadata": {},
   "outputs": [],
   "source": [
    "X_simple_reshaped = X_simple.reshape(len(simple_cols),-1)\n",
    "X_enc = np.concatenate((X_emb.T, X_simple_reshaped.T), axis=1)"
   ]
  },
  {
   "cell_type": "code",
   "execution_count": 11,
   "metadata": {},
   "outputs": [
    {
     "name": "stdout",
     "output_type": "stream",
     "text": [
      "Train (2250365, 19) (2250365,)\n",
      "Test (562592, 19) (562592,)\n"
     ]
    }
   ],
   "source": [
    "from sklearn.model_selection import train_test_split\n",
    "\n",
    "# split into train and test sets\n",
    "X_train, X_test, y_train, y_test = train_test_split(X_enc, y, test_size=0.2, shuffle=True)\n",
    "# summarize\n",
    "print('Train', X_train.shape, y_train.shape)\n",
    "# print('Validation', X_val.shape, y_val.shape)\n",
    "print('Test', X_test.shape, y_test.shape)"
   ]
  },
  {
   "cell_type": "code",
   "execution_count": 12,
   "metadata": {},
   "outputs": [],
   "source": [
    "%reset_selective -f \"^X$\"\n",
    "%reset_selective -f \"X_enc\""
   ]
  },
  {
   "cell_type": "code",
   "execution_count": 13,
   "metadata": {},
   "outputs": [
    {
     "name": "stdout",
     "output_type": "stream",
     "text": [
      "Counter({0: 1881508, 1: 323545, 2: 45312})\n",
      "Counter({2: 1880817, 1: 1860021, 0: 1859726})\n"
     ]
    }
   ],
   "source": [
    "from imblearn.combine import SMOTETomek\n",
    "\n",
    "sm = SMOTETomek()\n",
    "\n",
    "from collections import Counter\n",
    "counter = Counter(y_train)\n",
    "print(counter)\n",
    "\n",
    "def create_class_weight(labels_dict, mu=0.15):\n",
    "    import math\n",
    "    total = sum(list(labels_dict.values()))\n",
    "    keys = labels_dict.keys()\n",
    "    class_weight = dict()\n",
    "\n",
    "    for key in keys:\n",
    "        score = (1/labels_dict[key]) * (total) / 3.0\n",
    "        class_weight[key] = score\n",
    "\n",
    "    return class_weight\n",
    "\n",
    "class_weights = create_class_weight(dict(counter))\n",
    "\n",
    "X_smotetomek, y_smotetomek = sm.fit_resample(X_train, y_train)\n",
    "\n",
    "from collections import Counter\n",
    "counter = Counter(y_smotetomek)\n",
    "print(counter)"
   ]
  },
  {
   "cell_type": "code",
   "execution_count": 14,
   "metadata": {},
   "outputs": [],
   "source": [
    "from tensorflow.keras.layers import Input, concatenate, Dense, Dropout\n",
    "from tensorflow.python.keras.layers import Embedding\n",
    "from tensorflow.keras.models import Model\n",
    "from tensorflow.keras.initializers import RandomNormal\n",
    "\n",
    "def build_emb_model():\n",
    "  # prepare embedding layers\n",
    "  in_emb_layers = []\n",
    "  emb_layers = []\n",
    "\n",
    "  for i, column_name in enumerate(emb_cols):\n",
    "    n_labels = np.unique(X[:, i]).shape[0]\n",
    "    print(f'{column_name} - {n_labels}')\n",
    "    inl = Input(shape=np.shape(1,), name=column_name + '_input')\n",
    "    in_emb_layers.append(inl)\n",
    "    emb_dimension = min(n_labels // 2, 50)\n",
    "    eml = Embedding(input_dim=n_labels, \n",
    "                  output_dim=emb_dimension, \n",
    "                  name=column_name + '_emb',\n",
    "                  embeddings_initializer=RandomNormal())(inl)\n",
    "    emb_layers.append(eml)\n",
    "\n",
    "  merge_em = concatenate(emb_layers)\n",
    "  dense = Dense(units=64, activation='relu')(merge_em)\n",
    "  emb_model = Model(inputs=in_emb_layers, outputs=dense)\n",
    "  return emb_model"
   ]
  },
  {
   "cell_type": "code",
   "execution_count": 15,
   "metadata": {},
   "outputs": [],
   "source": [
    "def build_simple_model():\n",
    "  # prepare simple inputs\n",
    "  simple_in = Input(shape=(len(simple_cols),), name='simple_input')\n",
    "  d = Dense(units=26, activation='relu')(simple_in)\n",
    "  d = Dense(units=24, activation='relu')(d)\n",
    "  simple_model = Model(inputs=simple_in, outputs=d)\n",
    "  return simple_model"
   ]
  },
  {
   "cell_type": "code",
   "execution_count": 37,
   "metadata": {},
   "outputs": [],
   "source": [
    "def build_model():\n",
    "  emb_model = build_emb_model()\n",
    "  simple_model = build_simple_model()\n",
    "  combined = concatenate([emb_model.output, simple_model.output])\n",
    "  dense = Dense(48, activation='relu')(combined)\n",
    "  dense = Dense(80, activation='relu')(dense)\n",
    "  dense = Dense(80, activation='relu')(dense)\n",
    "  dense = Dropout(0.15)(dense)\n",
    "  dense = Dense(64, activation='relu')(dense)\n",
    "  dense = Dense(32, activation='relu')(dense)\n",
    "  dense = Dense(16, activation='relu')(dense)\n",
    "  dense = Dense(8, activation='relu')(dense)\n",
    "  output = Dense(3, activation='softmax')(dense)\n",
    "  model = Model(inputs=[emb_model.input, simple_model.input], outputs=output)\n",
    " \n",
    "  optimizer = tf.keras.optimizers.Adam(lr=0.0005060411140993145)\n",
    "  model.compile(optimizer=optimizer, \n",
    "                loss='categorical_crossentropy',\n",
    "                metrics=[keras.metrics.categorical_accuracy, \n",
    "                         keras.metrics.Precision(name='precision'), \n",
    "                         keras.metrics.Recall(name='recall'), \n",
    "                         keras.metrics.AUC(name='auc')])\n",
    "  return model"
   ]
  },
  {
   "cell_type": "code",
   "execution_count": 18,
   "metadata": {},
   "outputs": [],
   "source": [
    "y_smotetomek = np.squeeze(np.eye(3)[y_smotetomek.reshape(-1)])\n",
    "y_test = np.squeeze(np.eye(3)[y_test.reshape(-1)])"
   ]
  },
  {
   "cell_type": "code",
   "execution_count": 25,
   "metadata": {},
   "outputs": [
    {
     "data": {
      "text/plain": [
       "{0: 0.39868109339246316, 1: 2.318446171835963, 2: 16.554591866760827}"
      ]
     },
     "execution_count": 25,
     "metadata": {},
     "output_type": "execute_result"
    }
   ],
   "source": [
    "class_weights"
   ]
  },
  {
   "cell_type": "code",
   "execution_count": 38,
   "metadata": {},
   "outputs": [
    {
     "name": "stdout",
     "output_type": "stream",
     "text": [
      "carrier_code - 10\n",
      "day - 31\n",
      "weekday - 7\n",
      "month - 4\n",
      "origin_airport - 363\n",
      "destination_airport - 363\n"
     ]
    }
   ],
   "source": [
    "from tensorflow.keras.callbacks import EarlyStopping\n",
    "from tensorflow.keras import metrics\n",
    "\n",
    "monitor = EarlyStopping(monitor='val_loss', min_delta=1e-3, patience=3, \n",
    "                        verbose=1, mode='auto', restore_best_weights=True)\n",
    "\n",
    "model = build_model()"
   ]
  },
  {
   "cell_type": "code",
   "execution_count": 39,
   "metadata": {
    "colab": {
     "base_uri": "https://localhost:8080/",
     "height": 1000
    },
    "colab_type": "code",
    "id": "Wce7ZGnj7J-E",
    "outputId": "cb83aefc-3c0c-4990-daa7-31251b4426ae"
   },
   "outputs": [
    {
     "name": "stdout",
     "output_type": "stream",
     "text": [
      "Epoch 1/10\n",
      "175018/175018 - 585s - loss: 1.9521 - categorical_accuracy: 0.5057 - precision: 0.5356 - recall: 0.4686 - auc: 0.7443 - val_loss: 1.5019 - val_categorical_accuracy: 0.2512 - val_precision: 0.2452 - val_recall: 0.1599 - val_auc: 0.4547\n",
      "Epoch 2/10\n",
      "175018/175018 - 588s - loss: 1.7207 - categorical_accuracy: 0.5633 - precision: 0.5997 - recall: 0.5202 - auc: 0.7941 - val_loss: 1.1951 - val_categorical_accuracy: 0.4080 - val_precision: 0.4217 - val_recall: 0.2593 - val_auc: 0.5948\n",
      "Epoch 3/10\n",
      "175018/175018 - 587s - loss: 1.6605 - categorical_accuracy: 0.5803 - precision: 0.6116 - recall: 0.5331 - auc: 0.8046 - val_loss: 1.2618 - val_categorical_accuracy: 0.4228 - val_precision: 0.4181 - val_recall: 0.2927 - val_auc: 0.6003\n",
      "Epoch 4/10\n",
      "175018/175018 - 588s - loss: 1.6333 - categorical_accuracy: 0.5876 - precision: 0.6175 - recall: 0.5366 - auc: 0.8087 - val_loss: 1.2011 - val_categorical_accuracy: 0.3575 - val_precision: 0.3347 - val_recall: 0.1931 - val_auc: 0.5718\n",
      "Epoch 5/10\n",
      "Restoring model weights from the end of the best epoch.\n",
      "175018/175018 - 588s - loss: 1.6257 - categorical_accuracy: 0.5872 - precision: 0.6155 - recall: 0.5391 - auc: 0.8086 - val_loss: 1.2454 - val_categorical_accuracy: 0.3650 - val_precision: 0.3966 - val_recall: 0.3018 - val_auc: 0.5866\n",
      "Epoch 00005: early stopping\n"
     ]
    }
   ],
   "source": [
    "history = model.fit([X_smotetomek[:, i] for i in range(6)] + [X_smotetomek[:, 6:]], \n",
    "          y_smotetomek,\n",
    "          validation_data=([X_test[:, i] for i in range(6)] + [X_test[:, 6:]], y_test),\n",
    "          epochs=10, \n",
    "          verbose=2,\n",
    "          callbacks=[monitor],\n",
    "          class_weight=class_weights,\n",
    "          batch_size=32)"
   ]
  },
  {
   "cell_type": "code",
   "execution_count": 46,
   "metadata": {
    "colab": {
     "base_uri": "https://localhost:8080/",
     "height": 102
    },
    "colab_type": "code",
    "id": "Q2neaYCfWK2W",
    "outputId": "c54d56fc-e0ec-4375-f62a-3d6ab0916512"
   },
   "outputs": [
    {
     "name": "stdout",
     "output_type": "stream",
     "text": [
      "Accuracy: 40.79759418964386\n",
      "Precision: 0.4217298924922943\n",
      "Recall: 0.2593495845794678\n"
     ]
    }
   ],
   "source": [
    "# evaluate the keras model\n",
    "loss, categ_accuracy, precision, recall, auc = model.evaluate([X_test[:, i] for i in range(6)] + [X_test[:, 6:]], y_test, verbose=0)\n",
    "print(f'Accuracy: {categ_accuracy*100}')\n",
    "print(f'Precision: {precision}')\n",
    "print(f'Recall: {recall}')"
   ]
  },
  {
   "cell_type": "code",
   "execution_count": 43,
   "metadata": {
    "colab": {},
    "colab_type": "code",
    "id": "_YlQDG0DVFhG"
   },
   "outputs": [],
   "source": [
    "# make predictions\n",
    "predictions = model.predict([X_test[:, i] for i in range(6)] + [X_test[:, 6:]])"
   ]
  },
  {
   "cell_type": "code",
   "execution_count": 44,
   "metadata": {
    "colab": {
     "base_uri": "https://localhost:8080/",
     "height": 34
    },
    "colab_type": "code",
    "id": "sFLdREKIAlaQ",
    "outputId": "d28d98a6-b1ac-4c7e-a791-b28d5a09a59c"
   },
   "outputs": [
    {
     "name": "stdout",
     "output_type": "stream",
     "text": [
      "Log loss score: 1.1950648388200675\n"
     ]
    }
   ],
   "source": [
    "from sklearn import metrics\n",
    "\n",
    "score = metrics.log_loss(y_test, predictions)\n",
    "print(\"Log loss score: {}\".format(score))"
   ]
  },
  {
   "cell_type": "code",
   "execution_count": 45,
   "metadata": {
    "colab": {
     "base_uri": "https://localhost:8080/",
     "height": 68
    },
    "colab_type": "code",
    "id": "rjBbPIfVE8xO",
    "outputId": "1811a87e-ea6c-450c-f698-d84859dd8826"
   },
   "outputs": [
    {
     "name": "stdout",
     "output_type": "stream",
     "text": [
      "[[185935 166888 117737]\n",
      " [ 18819  35237  26792]\n",
      " [   828   2004   8352]]\n"
     ]
    }
   ],
   "source": [
    "from sklearn.metrics import confusion_matrix\n",
    "\n",
    "# raw probabilities to chosen class (highest probability)\n",
    "preds = np.argmax(predictions, axis=1) \n",
    "raw_y_test = np.argmax(y_test, axis=1)\n",
    "con_mat = confusion_matrix(raw_y_test, preds)\n",
    "print(con_mat)"
   ]
  },
  {
   "cell_type": "code",
   "execution_count": 47,
   "metadata": {
    "colab": {
     "base_uri": "https://localhost:8080/",
     "height": 295
    },
    "colab_type": "code",
    "id": "sfEnCBgxXJvF",
    "outputId": "a6add0b6-c27f-4395-8e18-6a1257626fbc"
   },
   "outputs": [
    {
     "data": {
      "image/png": "[encoded data removed]",
      "text/plain": [
       "<Figure size 432x288 with 1 Axes>"
      ]
     },
     "metadata": {
      "needs_background": "light"
     },
     "output_type": "display_data"
    }
   ],
   "source": [
    "import matplotlib.pyplot as plt\n",
    "\n",
    "# Plot training & validation accuracy values\n",
    "plt.plot(history.history['categorical_accuracy'])\n",
    "plt.plot(history.history['val_categorical_accuracy'])\n",
    "plt.title('Model accuracy')\n",
    "plt.ylabel('Accuracy')\n",
    "plt.xlabel('Epoch')\n",
    "plt.legend(['Train', 'Test'], loc='upper left')\n",
    "plt.show()"
   ]
  },
  {
   "cell_type": "code",
   "execution_count": 48,
   "metadata": {
    "colab": {
     "base_uri": "https://localhost:8080/",
     "height": 295
    },
    "colab_type": "code",
    "id": "8wOHh5_tRs1P",
    "outputId": "818580ea-3a29-497c-eb31-810f1dcca297"
   },
   "outputs": [
    {
     "data": {
      "image/png": "[encoded data removed]",
      "text/plain": [
       "<Figure size 432x288 with 1 Axes>"
      ]
     },
     "metadata": {
      "needs_background": "light"
     },
     "output_type": "display_data"
    }
   ],
   "source": [
    "import matplotlib.pyplot as plt\n",
    "\n",
    "# Plot training & validation accuracy values\n",
    "plt.plot(history.history['precision'])\n",
    "plt.plot(history.history['val_precision'])\n",
    "plt.title('Model precision')\n",
    "plt.ylabel('Precision')\n",
    "plt.xlabel('Epoch')\n",
    "plt.legend(['Train', 'Test'], loc='upper left')\n",
    "plt.show()"
   ]
  },
  {
   "cell_type": "code",
   "execution_count": 49,
   "metadata": {
    "colab": {
     "base_uri": "https://localhost:8080/",
     "height": 295
    },
    "colab_type": "code",
    "id": "uE_r6SsBSCTk",
    "outputId": "9a4ce069-f58d-4738-9b42-f0a44ba701ea"
   },
   "outputs": [
    {
     "data": {
      "image/png": "[encoded data removed]",
      "text/plain": [
       "<Figure size 432x288 with 1 Axes>"
      ]
     },
     "metadata": {
      "needs_background": "light"
     },
     "output_type": "display_data"
    }
   ],
   "source": [
    "import matplotlib.pyplot as plt\n",
    "\n",
    "# Plot training & validation accuracy values\n",
    "plt.plot(history.history['recall'])\n",
    "plt.plot(history.history['val_recall'])\n",
    "plt.title('Model recall')\n",
    "plt.ylabel('Recall')\n",
    "plt.xlabel('Epoch')\n",
    "plt.legend(['Train', 'Test'], loc='upper left')\n",
    "plt.show()"
   ]
  },
  {
   "cell_type": "code",
   "execution_count": 50,
   "metadata": {
    "colab": {
     "base_uri": "https://localhost:8080/",
     "height": 295
    },
    "colab_type": "code",
    "id": "2GH5bJbWR_FY",
    "outputId": "be8134cf-ae45-4ce7-ec74-bf05acccc029"
   },
   "outputs": [
    {
     "data": {
      "image/png": "[encoded data removed]",
      "text/plain": [
       "<Figure size 432x288 with 1 Axes>"
      ]
     },
     "metadata": {
      "needs_background": "light"
     },
     "output_type": "display_data"
    }
   ],
   "source": [
    "import matplotlib.pyplot as plt\n",
    "\n",
    "# Plot training & validation accuracy values\n",
    "plt.plot(history.history['auc'])\n",
    "plt.plot(history.history['val_auc'])\n",
    "plt.title('Model AUC')\n",
    "plt.ylabel('AUC')\n",
    "plt.xlabel('Epoch')\n",
    "plt.legend(['Train', 'Test'], loc='upper left')\n",
    "plt.show()"
   ]
  },
  {
   "cell_type": "code",
   "execution_count": 0,
   "metadata": {
    "colab": {},
    "colab_type": "code",
    "id": "2uVn3OlM8IYG"
   },
   "outputs": [],
   "source": []
  }
 ],
 "metadata": {
  "colab": {
   "collapsed_sections": [],
   "name": "MixedInputsDroput.ipynb",
   "provenance": []
  },
  "kernelspec": {
   "display_name": "Python 3",
   "language": "python",
   "name": "python3"
  },
  "language_info": {
   "codemirror_mode": {
    "name": "ipython",
    "version": 3
   },
   "file_extension": ".py",
   "mimetype": "text/x-python",
   "name": "python",
   "nbconvert_exporter": "python",
   "pygments_lexer": "ipython3",
   "version": "3.7.7"
  }
 },
 "nbformat": 4,
 "nbformat_minor": 1
}
