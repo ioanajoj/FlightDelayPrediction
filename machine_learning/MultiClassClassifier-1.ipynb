{
 "cells": [
  {
   "cell_type": "code",
   "execution_count": 1,
   "metadata": {
    "colab": {},
    "colab_type": "code",
    "id": "kpYdU33E_zyE"
   },
   "outputs": [],
   "source": [
    "import pandas as pd\n",
    "import numpy as np\n",
    "import tensorflow as tf"
   ]
  },
  {
   "cell_type": "code",
   "execution_count": 2,
   "metadata": {},
   "outputs": [],
   "source": [
    "df_05 = pd.read_csv('data/merged-05-2019.csv')\n",
    "df_06 = pd.read_csv('data/merged-06-2019.csv')\n",
    "df_07 = pd.read_csv('data/merged-07-2019.csv')\n",
    "df_08 = pd.read_csv('data/merged-08-2019.csv')"
   ]
  },
  {
   "cell_type": "code",
   "execution_count": 3,
   "metadata": {
    "colab": {},
    "colab_type": "code",
    "id": "s5UJYYDOKCcr"
   },
   "outputs": [],
   "source": [
    "df = pd.concat([df_05, df_06, df_07, df_08], ignore_index=True)"
   ]
  },
  {
   "cell_type": "code",
   "execution_count": 4,
   "metadata": {},
   "outputs": [],
   "source": [
    "%reset_selective -f \"^df_\""
   ]
  },
  {
   "cell_type": "code",
   "execution_count": 5,
   "metadata": {
    "colab": {},
    "colab_type": "code",
    "id": "P-I2uzFT_3Vj"
   },
   "outputs": [],
   "source": [
    "df = df[['carrier_code', 'day', 'weekday', 'month', 'origin_airport', 'destination_airport', \n",
    "          'scheduled_elapsed_time', 'scheduled_departure_dt', 'scheduled_arrival_dt',\n",
    "          'STATION_x', 'HourlyDryBulbTemperature_x', 'HourlyPrecipitation_x', 'HourlyVisibility_x', 'HourlyWindSpeed_x',\n",
    "          'STATION_y', 'HourlyDryBulbTemperature_y', 'HourlyPrecipitation_y', 'HourlyVisibility_y', 'HourlyWindSpeed_y',\n",
    "          'arrival_delay', 'cancelled_code']]\n",
    "# drop unknown data \n",
    "df = df.dropna(subset=['STATION_x', 'STATION_y'])\n",
    "\n",
    "# datetime to minutes from midnight\n",
    "# scheduled departure\n",
    "df['scheduled_departure_dt'] = pd.to_datetime(df['scheduled_departure_dt']).dt.hour * 60 + pd.to_datetime(df['scheduled_departure_dt']).dt.minute\n",
    "minutes_in_day = 24*60\n",
    "df['sin_scheduled_departure'] = np.sin(2*np.pi*df['scheduled_departure_dt']/minutes_in_day)\n",
    "df['cos_scheduled_departure'] = np.cos(2*np.pi*df['scheduled_departure_dt']/minutes_in_day)\n",
    "# scheduled arrival\n",
    "df['scheduled_arrival_dt'] = pd.to_datetime(df['scheduled_arrival_dt']).dt.hour * 60 + pd.to_datetime(df['scheduled_arrival_dt']).dt.minute\n",
    "minutes_in_day = 24*60\n",
    "df['sin_scheduled_arrival'] = np.sin(2*np.pi*df['scheduled_arrival_dt']/minutes_in_day)\n",
    "df['cos_scheduled_arrival'] = np.cos(2*np.pi*df['scheduled_arrival_dt']/minutes_in_day)\n",
    "\n",
    "# construct output\n",
    "# 0 - cancelled flights\n",
    "# 1 - delayed flights\n",
    "# 2 - on time\n",
    "def make_binary_output(row):\n",
    "    if row['cancelled_code'] != 'N' or row['arrival_delay'] > 30:\n",
    "      return 1\n",
    "    return 0\n",
    "def make_multi_output(row):\n",
    "    if row['cancelled_code'] != 'N':\n",
    "      return 2\n",
    "    if row['arrival_delay'] > 30:\n",
    "      return 1\n",
    "    return 0\n",
    "df['output'] = df.apply(make_multi_output, axis=1)\n",
    "\n",
    "# drop extra columns\n",
    "df = df.drop(columns=['cancelled_code', 'arrival_delay', 'scheduled_departure_dt', 'scheduled_arrival_dt', 'STATION_x', 'STATION_y'])\n",
    "df = df.dropna()"
   ]
  },
  {
   "cell_type": "code",
   "execution_count": 6,
   "metadata": {},
   "outputs": [
    {
     "data": {
      "text/html": [
       "<div>\n",
       "<style scoped>\n",
       "    .dataframe tbody tr th:only-of-type {\n",
       "        vertical-align: middle;\n",
       "    }\n",
       "\n",
       "    .dataframe tbody tr th {\n",
       "        vertical-align: top;\n",
       "    }\n",
       "\n",
       "    .dataframe thead th {\n",
       "        text-align: right;\n",
       "    }\n",
       "</style>\n",
       "<table border=\"1\" class=\"dataframe\">\n",
       "  <thead>\n",
       "    <tr style=\"text-align: right;\">\n",
       "      <th></th>\n",
       "      <th>carrier_code</th>\n",
       "      <th>day</th>\n",
       "      <th>weekday</th>\n",
       "      <th>month</th>\n",
       "      <th>origin_airport</th>\n",
       "      <th>destination_airport</th>\n",
       "      <th>scheduled_elapsed_time</th>\n",
       "      <th>HourlyDryBulbTemperature_x</th>\n",
       "      <th>HourlyPrecipitation_x</th>\n",
       "      <th>HourlyVisibility_x</th>\n",
       "      <th>HourlyWindSpeed_x</th>\n",
       "      <th>HourlyDryBulbTemperature_y</th>\n",
       "      <th>HourlyPrecipitation_y</th>\n",
       "      <th>HourlyVisibility_y</th>\n",
       "      <th>HourlyWindSpeed_y</th>\n",
       "      <th>sin_scheduled_departure</th>\n",
       "      <th>cos_scheduled_departure</th>\n",
       "      <th>sin_scheduled_arrival</th>\n",
       "      <th>cos_scheduled_arrival</th>\n",
       "      <th>output</th>\n",
       "    </tr>\n",
       "  </thead>\n",
       "  <tbody>\n",
       "    <tr>\n",
       "      <th>0</th>\n",
       "      <td>AS</td>\n",
       "      <td>1</td>\n",
       "      <td>2</td>\n",
       "      <td>5</td>\n",
       "      <td>SEA</td>\n",
       "      <td>ANC</td>\n",
       "      <td>215</td>\n",
       "      <td>49.0</td>\n",
       "      <td>0.0</td>\n",
       "      <td>10.0</td>\n",
       "      <td>8.0</td>\n",
       "      <td>42.0</td>\n",
       "      <td>0.0</td>\n",
       "      <td>10.0</td>\n",
       "      <td>3.0</td>\n",
       "      <td>0.173648</td>\n",
       "      <td>0.984808</td>\n",
       "      <td>0.751840</td>\n",
       "      <td>0.659346</td>\n",
       "      <td>0</td>\n",
       "    </tr>\n",
       "    <tr>\n",
       "      <th>1</th>\n",
       "      <td>F9</td>\n",
       "      <td>1</td>\n",
       "      <td>2</td>\n",
       "      <td>5</td>\n",
       "      <td>LAX</td>\n",
       "      <td>DEN</td>\n",
       "      <td>147</td>\n",
       "      <td>58.0</td>\n",
       "      <td>0.0</td>\n",
       "      <td>10.0</td>\n",
       "      <td>3.0</td>\n",
       "      <td>34.0</td>\n",
       "      <td>0.0</td>\n",
       "      <td>4.0</td>\n",
       "      <td>0.0</td>\n",
       "      <td>0.254602</td>\n",
       "      <td>0.967046</td>\n",
       "      <td>0.917060</td>\n",
       "      <td>0.398749</td>\n",
       "      <td>0</td>\n",
       "    </tr>\n",
       "    <tr>\n",
       "      <th>2</th>\n",
       "      <td>F9</td>\n",
       "      <td>1</td>\n",
       "      <td>2</td>\n",
       "      <td>5</td>\n",
       "      <td>SFO</td>\n",
       "      <td>DEN</td>\n",
       "      <td>158</td>\n",
       "      <td>51.0</td>\n",
       "      <td>0.0</td>\n",
       "      <td>10.0</td>\n",
       "      <td>6.0</td>\n",
       "      <td>34.0</td>\n",
       "      <td>0.0</td>\n",
       "      <td>4.0</td>\n",
       "      <td>0.0</td>\n",
       "      <td>0.216440</td>\n",
       "      <td>0.976296</td>\n",
       "      <td>0.920505</td>\n",
       "      <td>0.390731</td>\n",
       "      <td>0</td>\n",
       "    </tr>\n",
       "    <tr>\n",
       "      <th>3</th>\n",
       "      <td>F9</td>\n",
       "      <td>1</td>\n",
       "      <td>2</td>\n",
       "      <td>5</td>\n",
       "      <td>PDX</td>\n",
       "      <td>DEN</td>\n",
       "      <td>156</td>\n",
       "      <td>48.0</td>\n",
       "      <td>0.0</td>\n",
       "      <td>10.0</td>\n",
       "      <td>0.0</td>\n",
       "      <td>34.0</td>\n",
       "      <td>0.0</td>\n",
       "      <td>4.0</td>\n",
       "      <td>0.0</td>\n",
       "      <td>0.237686</td>\n",
       "      <td>0.971342</td>\n",
       "      <td>0.925541</td>\n",
       "      <td>0.378649</td>\n",
       "      <td>0</td>\n",
       "    </tr>\n",
       "    <tr>\n",
       "      <th>4</th>\n",
       "      <td>AS</td>\n",
       "      <td>1</td>\n",
       "      <td>2</td>\n",
       "      <td>5</td>\n",
       "      <td>ANC</td>\n",
       "      <td>SEA</td>\n",
       "      <td>210</td>\n",
       "      <td>43.0</td>\n",
       "      <td>0.0</td>\n",
       "      <td>10.0</td>\n",
       "      <td>5.0</td>\n",
       "      <td>44.0</td>\n",
       "      <td>0.0</td>\n",
       "      <td>10.0</td>\n",
       "      <td>7.0</td>\n",
       "      <td>0.043619</td>\n",
       "      <td>0.999048</td>\n",
       "      <td>0.939693</td>\n",
       "      <td>0.342020</td>\n",
       "      <td>0</td>\n",
       "    </tr>\n",
       "  </tbody>\n",
       "</table>\n",
       "</div>"
      ],
      "text/plain": [
       "  carrier_code  day  weekday  month origin_airport destination_airport  \\\n",
       "0           AS    1        2      5            SEA                 ANC   \n",
       "1           F9    1        2      5            LAX                 DEN   \n",
       "2           F9    1        2      5            SFO                 DEN   \n",
       "3           F9    1        2      5            PDX                 DEN   \n",
       "4           AS    1        2      5            ANC                 SEA   \n",
       "\n",
       "   scheduled_elapsed_time  HourlyDryBulbTemperature_x  HourlyPrecipitation_x  \\\n",
       "0                     215                        49.0                    0.0   \n",
       "1                     147                        58.0                    0.0   \n",
       "2                     158                        51.0                    0.0   \n",
       "3                     156                        48.0                    0.0   \n",
       "4                     210                        43.0                    0.0   \n",
       "\n",
       "   HourlyVisibility_x  HourlyWindSpeed_x  HourlyDryBulbTemperature_y  \\\n",
       "0                10.0                8.0                        42.0   \n",
       "1                10.0                3.0                        34.0   \n",
       "2                10.0                6.0                        34.0   \n",
       "3                10.0                0.0                        34.0   \n",
       "4                10.0                5.0                        44.0   \n",
       "\n",
       "   HourlyPrecipitation_y  HourlyVisibility_y  HourlyWindSpeed_y  \\\n",
       "0                    0.0                10.0                3.0   \n",
       "1                    0.0                 4.0                0.0   \n",
       "2                    0.0                 4.0                0.0   \n",
       "3                    0.0                 4.0                0.0   \n",
       "4                    0.0                10.0                7.0   \n",
       "\n",
       "   sin_scheduled_departure  cos_scheduled_departure  sin_scheduled_arrival  \\\n",
       "0                 0.173648                 0.984808               0.751840   \n",
       "1                 0.254602                 0.967046               0.917060   \n",
       "2                 0.216440                 0.976296               0.920505   \n",
       "3                 0.237686                 0.971342               0.925541   \n",
       "4                 0.043619                 0.999048               0.939693   \n",
       "\n",
       "   cos_scheduled_arrival  output  \n",
       "0               0.659346       0  \n",
       "1               0.398749       0  \n",
       "2               0.390731       0  \n",
       "3               0.378649       0  \n",
       "4               0.342020       0  "
      ]
     },
     "execution_count": 6,
     "metadata": {},
     "output_type": "execute_result"
    }
   ],
   "source": [
    "df.head()"
   ]
  },
  {
   "cell_type": "code",
   "execution_count": 7,
   "metadata": {
    "colab": {},
    "colab_type": "code",
    "id": "b_gUtbLRpTuO"
   },
   "outputs": [],
   "source": [
    "# retrieve numpy array\n",
    "dataset = df.values\n",
    "# split into input and output variables\n",
    "X = dataset[:, :-1]\n",
    "y = dataset[:, -1]\n",
    "# format all fields as string\n",
    "# X = X.astype(str)\n",
    "y = y.astype(int)"
   ]
  },
  {
   "cell_type": "code",
   "execution_count": 8,
   "metadata": {},
   "outputs": [
    {
     "data": {
      "image/png": "[encoded data removed]",
      "text/plain": [
       "<Figure size 432x288 with 1 Axes>"
      ]
     },
     "metadata": {
      "needs_background": "light"
     },
     "output_type": "display_data"
    }
   ],
   "source": [
    "from collections import Counter\n",
    "class_count = Counter(y)\n",
    "\n",
    "import matplotlib.pyplot as plt\n",
    "fig = plt.figure()\n",
    "ax = fig.add_axes([0,0,1,1])\n",
    "classes = ['on-time', 'delayed>30', 'cancelled']\n",
    "samples = [class_count[0], class_count[1], class_count[2]]\n",
    "ax.bar(classes, samples)\n",
    "plt.show()"
   ]
  },
  {
   "cell_type": "code",
   "execution_count": 9,
   "metadata": {
    "colab": {},
    "colab_type": "code",
    "id": "vz2JRaMb_41h"
   },
   "outputs": [],
   "source": [
    "emb_cols = ['carrier_code', 'day', 'weekday', 'month', 'origin_airport', 'destination_airport']\n",
    "simple_cols = ['scheduled_elapsed_time',\n",
    "             'HourlyDryBulbTemperature_x', 'HourlyPrecipitation_x', 'HourlyVisibility_x', 'HourlyWindSpeed_x',\n",
    "             'HourlyDryBulbTemperature_y', 'HourlyPrecipitation_y', 'HourlyVisibility_y', 'HourlyWindSpeed_y',\n",
    "              'sin_scheduled_departure', 'cos_scheduled_departure', 'sin_scheduled_arrival', 'cos_scheduled_arrival']"
   ]
  },
  {
   "cell_type": "code",
   "execution_count": 10,
   "metadata": {
    "colab": {},
    "colab_type": "code",
    "id": "ihG1Z2gm_8f5"
   },
   "outputs": [],
   "source": [
    "# prepare embedding inputs\n",
    "from sklearn.preprocessing import OrdinalEncoder\n",
    "\n",
    "# prepare input data\n",
    "def prepare_embedding_inputs(X, emb_cols):\n",
    "    les = []\n",
    "    X_emb = np.empty((len(emb_cols), len(X)), dtype='int') \n",
    "    for i, column_name in enumerate(emb_cols):\n",
    "      le = OrdinalEncoder()\n",
    "      le.fit(X[:, i].reshape(-1, 1))\n",
    "      enc = le.transform(X[:, i].reshape(-1, 1)).reshape(-1)\n",
    "      X_emb[i] = enc\n",
    "      les.append(le)\n",
    "    return X_emb, les\n",
    "\n",
    "X_emb, les = prepare_embedding_inputs(X, emb_cols)"
   ]
  },
  {
   "cell_type": "code",
   "execution_count": 11,
   "metadata": {
    "colab": {
     "base_uri": "https://localhost:8080/",
     "height": 119
    },
    "colab_type": "code",
    "id": "kq4CsBXx_-Jv",
    "outputId": "65e5f92a-ca1e-4f4b-c219-a28b0e979ac5"
   },
   "outputs": [],
   "source": [
    "# prepare simple inputs\n",
    "from sklearn.preprocessing import PowerTransformer, MinMaxScaler\n",
    "\n",
    "# prepare input data\n",
    "def prepare_simple_inputs(X, simple_cols):\n",
    "    X_simple = np.empty((len(simple_cols), len(X)))\n",
    "    simple_dt = df[simple_cols].to_numpy()\n",
    "    transformer = MinMaxScaler()\n",
    "    X_simple = transformer.fit_transform(simple_dt)\n",
    "    return X_simple, transformer\n",
    "\n",
    "X_simple, ss = prepare_simple_inputs(X, simple_cols)"
   ]
  },
  {
   "cell_type": "code",
   "execution_count": 12,
   "metadata": {},
   "outputs": [],
   "source": [
    "X_simple_reshaped = X_simple.reshape(len(simple_cols),-1)\n",
    "X_enc = np.concatenate((X_emb.T, X_simple_reshaped.T), axis=1)"
   ]
  },
  {
   "cell_type": "code",
   "execution_count": 13,
   "metadata": {},
   "outputs": [
    {
     "name": "stdout",
     "output_type": "stream",
     "text": [
      "Train (2250365, 19) (2250365,)\n",
      "Test (562592, 19) (562592,)\n"
     ]
    }
   ],
   "source": [
    "from sklearn.model_selection import train_test_split\n",
    "\n",
    "# split into train and test sets\n",
    "X_train, X_test, y_train, y_test = train_test_split(X_enc, y, test_size=0.2, shuffle=True)\n",
    "# summarize\n",
    "print('Train', X_train.shape, y_train.shape)\n",
    "# print('Validation', X_val.shape, y_val.shape)\n",
    "print('Test', X_test.shape, y_test.shape)"
   ]
  },
  {
   "cell_type": "code",
   "execution_count": 14,
   "metadata": {},
   "outputs": [
    {
     "name": "stdout",
     "output_type": "stream",
     "text": [
      "Counter({0: 1881755, 1: 323277, 2: 45333})\n"
     ]
    }
   ],
   "source": [
    "from imblearn.combine import SMOTETomek\n",
    "\n",
    "sm = SMOTETomek()\n",
    "\n",
    "from collections import Counter\n",
    "counter = Counter(y_train)\n",
    "print(counter)\n",
    "\n",
    "def create_class_weight(labels_dict, mu=0.15):\n",
    "    import math\n",
    "    total = sum(list(labels_dict.values()))\n",
    "    keys = labels_dict.keys()\n",
    "    class_weight = dict()\n",
    "\n",
    "    for key in keys:\n",
    "        score = (1/labels_dict[key]) * (total) / 3.0\n",
    "        class_weight[key] = score\n",
    "\n",
    "    return class_weight\n",
    "\n",
    "class_weights = create_class_weight(dict(counter))\n",
    "\n",
    "# X_smotetomek, y_smotetomek = sm.fit_resample(X_train, y_train)\n",
    "# \n",
    "# from collections import Counter\n",
    "# counter = Counter(y_smotetomek)\n",
    "# print(counter)"
   ]
  },
  {
   "cell_type": "code",
   "execution_count": 15,
   "metadata": {},
   "outputs": [],
   "source": [
    "X_smotetomek = X_train\n",
    "y_smotetomek = y_train"
   ]
  },
  {
   "cell_type": "code",
   "execution_count": 16,
   "metadata": {},
   "outputs": [],
   "source": [
    "from tensorflow.keras.layers import Input, concatenate, Dense, Dropout\n",
    "from tensorflow.python.keras.layers import Embedding\n",
    "from tensorflow.keras.models import Model\n",
    "from tensorflow.keras.initializers import RandomNormal\n",
    "\n",
    "def build_emb_model():\n",
    "  # prepare embedding layers\n",
    "  in_emb_layers = []\n",
    "  emb_layers = []\n",
    "\n",
    "  for i, column_name in enumerate(emb_cols):\n",
    "    n_labels = np.unique(X[:, i]).shape[0]\n",
    "    print(f'{column_name} - {n_labels}')\n",
    "    inl = Input(shape=np.shape(1,), name=column_name + '_input')\n",
    "    in_emb_layers.append(inl)\n",
    "    emb_dimension = min(n_labels // 2, 50)\n",
    "    eml = Embedding(input_dim=n_labels, \n",
    "                  output_dim=emb_dimension, \n",
    "                  name=column_name + '_emb',\n",
    "                  embeddings_initializer=RandomNormal())(inl)\n",
    "    emb_layers.append(eml)\n",
    "\n",
    "  merge_em = concatenate(emb_layers)\n",
    "  dense = Dense(units=64, activation='relu')(merge_em)\n",
    "  emb_model = Model(inputs=in_emb_layers, outputs=dense)\n",
    "  return emb_model"
   ]
  },
  {
   "cell_type": "code",
   "execution_count": 17,
   "metadata": {},
   "outputs": [],
   "source": [
    "def build_simple_model():\n",
    "  # prepare simple inputs\n",
    "  simple_in = Input(shape=(len(simple_cols),), name='simple_input')\n",
    "  d = Dense(units=26, activation='relu')(simple_in)\n",
    "  d = Dense(units=24, activation='relu')(d)\n",
    "  simple_model = Model(inputs=simple_in, outputs=d)\n",
    "  return simple_model"
   ]
  },
  {
   "cell_type": "code",
   "execution_count": 21,
   "metadata": {},
   "outputs": [],
   "source": [
    "from tensorflow import keras\n",
    "\n",
    "# METRICS = [keras.metrics.categorical_accuracy,\n",
    "#             keras.metrics.AUC(name='auc')]\n",
    "\n",
    "def build_model(metrics, output_bias=None):\n",
    "  if output_bias is not None:\n",
    "    output_bias = tf.keras.initializers.Constant(output_bias)\n",
    "  emb_model = build_emb_model()\n",
    "  simple_model = build_simple_model()\n",
    "  combined = concatenate([emb_model.output, simple_model.output])\n",
    "  dense = Dense(48, activation='relu')(combined)\n",
    "  dense = Dense(80, activation='relu')(dense)\n",
    "  dense = Dense(80, activation='relu')(dense)\n",
    "  dense = Dropout(0.15)(dense)\n",
    "  dense = Dense(64, activation='relu')(dense)\n",
    "  dense = Dense(32, activation='relu')(dense)\n",
    "  dense = Dense(16, activation='relu')(dense)\n",
    "  dense = Dense(8, activation='relu')(dense)\n",
    "  output = Dense(3, activation='softmax')(dense)\n",
    "  model = Model(inputs=[emb_model.input, simple_model.input], outputs=output)\n",
    " \n",
    "  optimizer = tf.keras.optimizers.Adam(lr=0.0005060411140993145)\n",
    "  model.compile(optimizer=optimizer, \n",
    "                loss='categorical_crossentropy',\n",
    "                metrics=[keras.metrics.categorical_accuracy])\n",
    "  return model"
   ]
  },
  {
   "cell_type": "code",
   "execution_count": 19,
   "metadata": {},
   "outputs": [],
   "source": [
    "y_smotetomek = np.squeeze(np.eye(3)[y_smotetomek.reshape(-1)])\n",
    "y_test = np.squeeze(np.eye(3)[y_test.reshape(-1)])"
   ]
  },
  {
   "cell_type": "code",
   "execution_count": null,
   "metadata": {},
   "outputs": [],
   "source": [
    "initial_bias = np.log([class_weights[1]/class_weights[0]])\n",
    "print(initial_bias)"
   ]
  },
  {
   "cell_type": "code",
   "execution_count": 22,
   "metadata": {},
   "outputs": [
    {
     "name": "stdout",
     "output_type": "stream",
     "text": [
      "carrier_code - 10\n",
      "day - 31\n",
      "weekday - 7\n",
      "month - 4\n",
      "origin_airport - 363\n",
      "destination_airport - 363\n"
     ]
    }
   ],
   "source": [
    "from tensorflow.keras.callbacks import EarlyStopping\n",
    "from tensorflow.keras import metrics\n",
    "\n",
    "monitor = EarlyStopping(monitor='val_loss', min_delta=1e-3, patience=3, \n",
    "                        verbose=1, mode='auto', restore_best_weights=True)\n",
    "\n",
    "model = build_model(None)"
   ]
  },
  {
   "cell_type": "code",
   "execution_count": 23,
   "metadata": {
    "colab": {
     "base_uri": "https://localhost:8080/",
     "height": 1000
    },
    "colab_type": "code",
    "id": "Wce7ZGnj7J-E",
    "outputId": "cb83aefc-3c0c-4990-daa7-31251b4426ae"
   },
   "outputs": [
    {
     "name": "stdout",
     "output_type": "stream",
     "text": [
      "Epoch 1/10\n",
      "70324/70324 - 207s - loss: 0.9742 - categorical_accuracy: 0.4975 - val_loss: 1.0132 - val_categorical_accuracy: 0.4822\n",
      "Epoch 2/10\n",
      "70324/70324 - 208s - loss: 0.9249 - categorical_accuracy: 0.5620 - val_loss: 0.9713 - val_categorical_accuracy: 0.5355\n",
      "Epoch 3/10\n",
      "70324/70324 - 207s - loss: 0.9083 - categorical_accuracy: 0.5768 - val_loss: 0.8979 - val_categorical_accuracy: 0.5957\n",
      "Epoch 4/10\n",
      "70324/70324 - 207s - loss: 0.9006 - categorical_accuracy: 0.5798 - val_loss: 0.9595 - val_categorical_accuracy: 0.5460\n",
      "Epoch 5/10\n",
      "70324/70324 - 207s - loss: 0.8945 - categorical_accuracy: 0.5859 - val_loss: 0.9001 - val_categorical_accuracy: 0.6062\n",
      "Epoch 6/10\n",
      "70324/70324 - 208s - loss: 0.8897 - categorical_accuracy: 0.5897 - val_loss: 0.8743 - val_categorical_accuracy: 0.6117\n",
      "Epoch 7/10\n",
      "70324/70324 - 208s - loss: 0.8881 - categorical_accuracy: 0.5935 - val_loss: 0.9534 - val_categorical_accuracy: 0.5298\n",
      "Epoch 8/10\n",
      "70324/70324 - 208s - loss: 0.8879 - categorical_accuracy: 0.5955 - val_loss: 0.8529 - val_categorical_accuracy: 0.6280\n",
      "Epoch 9/10\n",
      "70324/70324 - 207s - loss: 0.8852 - categorical_accuracy: 0.5950 - val_loss: 0.8893 - val_categorical_accuracy: 0.5920\n",
      "Epoch 10/10\n",
      "70324/70324 - 206s - loss: 0.8836 - categorical_accuracy: 0.6015 - val_loss: 0.8591 - val_categorical_accuracy: 0.6347\n"
     ]
    }
   ],
   "source": [
    "history = model.fit([X_smotetomek[:, i] for i in range(6)] + [X_smotetomek[:, 6:]], \n",
    "          y_smotetomek,\n",
    "          validation_data=([X_test[:, i] for i in range(6)] + [X_test[:, 6:]], y_test),\n",
    "          epochs=10, \n",
    "          verbose=2,\n",
    "          callbacks=[monitor],\n",
    "          class_weight=class_weights,\n",
    "          batch_size=32)"
   ]
  },
  {
   "cell_type": "code",
   "execution_count": 30,
   "metadata": {},
   "outputs": [
    {
     "data": {
      "text/plain": [
       "{0: 0.39862876233445194, 1: 2.320368187859534, 2: 16.546923139140727}"
      ]
     },
     "execution_count": 30,
     "metadata": {},
     "output_type": "execute_result"
    }
   ],
   "source": [
    "class_weights"
   ]
  },
  {
   "cell_type": "code",
   "execution_count": 31,
   "metadata": {},
   "outputs": [
    {
     "name": "stdout",
     "output_type": "stream",
     "text": [
      "Epoch 11/20\n",
      "70324/70324 - 209s - loss: 0.8825 - categorical_accuracy: 0.6027 - val_loss: 0.8819 - val_categorical_accuracy: 0.6193\n",
      "Epoch 12/20\n",
      "70324/70324 - 210s - loss: 0.8831 - categorical_accuracy: 0.6050 - val_loss: 0.7574 - val_categorical_accuracy: 0.6785\n",
      "Epoch 13/20\n",
      "70324/70324 - 210s - loss: 0.8832 - categorical_accuracy: 0.6120 - val_loss: 0.9500 - val_categorical_accuracy: 0.5991\n",
      "Epoch 14/20\n",
      "70324/70324 - 210s - loss: 0.8839 - categorical_accuracy: 0.6128 - val_loss: 0.8488 - val_categorical_accuracy: 0.6412\n",
      "Epoch 15/20\n",
      "Restoring model weights from the end of the best epoch.\n",
      "70324/70324 - 209s - loss: 0.8810 - categorical_accuracy: 0.6078 - val_loss: 0.8154 - val_categorical_accuracy: 0.6842\n",
      "Epoch 00015: early stopping\n"
     ]
    }
   ],
   "source": [
    "history = model.fit([X_smotetomek[:, i] for i in range(6)] + [X_smotetomek[:, 6:]], \n",
    "          y_smotetomek,\n",
    "          validation_data=([X_test[:, i] for i in range(6)] + [X_test[:, 6:]], y_test),\n",
    "          epochs=20, \n",
    "          verbose=2,\n",
    "          callbacks=[monitor],\n",
    "          class_weight=class_weights,\n",
    "          initial_epoch=10,\n",
    "          batch_size=32)"
   ]
  },
  {
   "cell_type": "code",
   "execution_count": 32,
   "metadata": {
    "colab": {
     "base_uri": "https://localhost:8080/",
     "height": 102
    },
    "colab_type": "code",
    "id": "Q2neaYCfWK2W",
    "outputId": "c54d56fc-e0ec-4375-f62a-3d6ab0916512"
   },
   "outputs": [
    {
     "name": "stdout",
     "output_type": "stream",
     "text": [
      "Accuracy: 67.85414814949036\n"
     ]
    }
   ],
   "source": [
    "# evaluate the keras model\n",
    "loss, categ_accuracy = model.evaluate([X_test[:, i] for i in range(6)] + [X_test[:, 6:]], y_test, verbose=0)\n",
    "print(f'Accuracy: {categ_accuracy*100}')"
   ]
  },
  {
   "cell_type": "code",
   "execution_count": 33,
   "metadata": {
    "colab": {},
    "colab_type": "code",
    "id": "_YlQDG0DVFhG"
   },
   "outputs": [],
   "source": [
    "# make predictions\n",
    "predictions = model.predict([X_test[:, i] for i in range(6)] + [X_test[:, 6:]])"
   ]
  },
  {
   "cell_type": "code",
   "execution_count": 34,
   "metadata": {
    "colab": {
     "base_uri": "https://localhost:8080/",
     "height": 34
    },
    "colab_type": "code",
    "id": "sFLdREKIAlaQ",
    "outputId": "d28d98a6-b1ac-4c7e-a791-b28d5a09a59c"
   },
   "outputs": [
    {
     "name": "stdout",
     "output_type": "stream",
     "text": [
      "Log loss score: 0.7573932469294268\n"
     ]
    }
   ],
   "source": [
    "from sklearn import metrics\n",
    "\n",
    "score = metrics.log_loss(y_test, predictions)\n",
    "print(\"Log loss score: {}\".format(score))"
   ]
  },
  {
   "cell_type": "code",
   "execution_count": 35,
   "metadata": {
    "colab": {
     "base_uri": "https://localhost:8080/",
     "height": 68
    },
    "colab_type": "code",
    "id": "rjBbPIfVE8xO",
    "outputId": "1811a87e-ea6c-450c-f698-d84859dd8826"
   },
   "outputs": [
    {
     "name": "stdout",
     "output_type": "stream",
     "text": [
      "[[346222  87109  36982]\n",
      " [ 38464  28966  13686]\n",
      " [  2333   2276   6554]]\n"
     ]
    }
   ],
   "source": [
    "from sklearn.metrics import confusion_matrix\n",
    "\n",
    "# raw probabilities to chosen class (highest probability)\n",
    "preds = np.argmax(predictions, axis=1) \n",
    "raw_y_test = np.argmax(y_test, axis=1)\n",
    "con_mat = confusion_matrix(raw_y_test, preds)\n",
    "print(con_mat)"
   ]
  },
  {
   "cell_type": "code",
   "execution_count": 74,
   "metadata": {},
   "outputs": [
    {
     "name": "stdout",
     "output_type": "stream",
     "text": [
      "precision: [0.22633772 0.32468582 0.85576382]\n",
      "recall: [0.29813556 0.09969848 0.95071208]\n",
      "fscore: [0.25732225 0.15255364 0.90074272]\n",
      "support: [ 11478  80593 470521]\n"
     ]
    }
   ],
   "source": [
    "from sklearn.metrics import precision_recall_fscore_support as score\n",
    "\n",
    "precision, recall, fscore, support = score(raw_y_test, preds)\n",
    "\n",
    "print(f'precision: {precision}')\n",
    "print(f'recall: {recall}')\n",
    "print(f'fscore: {fscore}')\n",
    "print(f'support: {support}')"
   ]
  },
  {
   "cell_type": "code",
   "execution_count": 0,
   "metadata": {
    "colab": {},
    "colab_type": "code",
    "id": "2uVn3OlM8IYG"
   },
   "outputs": [],
   "source": []
  }
 ],
 "metadata": {
  "colab": {
   "collapsed_sections": [],
   "name": "MixedInputsDroput.ipynb",
   "provenance": []
  },
  "kernelspec": {
   "display_name": "Python 3",
   "language": "python",
   "name": "python3"
  },
  "language_info": {
   "codemirror_mode": {
    "name": "ipython",
    "version": 3
   },
   "file_extension": ".py",
   "mimetype": "text/x-python",
   "name": "python",
   "nbconvert_exporter": "python",
   "pygments_lexer": "ipython3",
   "version": "3.7.7"
  }
 },
 "nbformat": 4,
 "nbformat_minor": 1
}
