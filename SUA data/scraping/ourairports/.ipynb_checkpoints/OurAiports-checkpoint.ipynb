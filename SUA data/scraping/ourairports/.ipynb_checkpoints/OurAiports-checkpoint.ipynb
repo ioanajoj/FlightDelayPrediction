{
 "cells": [
  {
   "cell_type": "code",
   "execution_count": 1,
   "metadata": {},
   "outputs": [],
   "source": [
    "import pandas as pd"
   ]
  },
  {
   "cell_type": "code",
   "execution_count": 25,
   "metadata": {},
   "outputs": [],
   "source": [
    "df = pd.read_csv('airports.csv')\n",
    "\n",
    "df = df[df.type.isin(['small_airport', 'medium_airport', 'large_airport'])]\n",
    "df = df[df.iso_country == 'US']\n",
    "df = df.dropna(subset=['iata_code'])\n",
    "columns = ['iata_code', 'name', 'latitude_deg', 'longitude_deg', 'elevation_ft', 'municipality']\n",
    "df = df[columns]\n",
    "df.to_csv('ourairports.csv', index=False)"
   ]
  },
  {
   "cell_type": "code",
   "execution_count": null,
   "metadata": {},
   "outputs": [],
   "source": []
  }
 ],
 "metadata": {
  "kernelspec": {
   "display_name": "Python 3",
   "language": "python",
   "name": "python3"
  },
  "language_info": {
   "codemirror_mode": {
    "name": "ipython",
    "version": 3
   },
   "file_extension": ".py",
   "mimetype": "text/x-python",
   "name": "python",
   "nbconvert_exporter": "python",
   "pygments_lexer": "ipython3",
   "version": "3.8.2"
  }
 },
 "nbformat": 4,
 "nbformat_minor": 4
}
