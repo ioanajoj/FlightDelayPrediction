{
 "cells": [
  {
   "cell_type": "code",
   "execution_count": 38,
   "metadata": {},
   "outputs": [],
   "source": [
    "import pandas as pd\n",
    "import numpy as np"
   ]
  },
  {
   "cell_type": "code",
   "execution_count": 87,
   "metadata": {},
   "outputs": [],
   "source": [
    "air_filepath = 'data\\\\ontime.td.201905.asc'"
   ]
  },
  {
   "cell_type": "code",
   "execution_count": 88,
   "metadata": {},
   "outputs": [],
   "source": [
    "# Load file\n",
    "air_df = pd.read_csv(air_filepath, sep='|', header=None, dtype=str)\n",
    "# define titles for the known columns\n",
    "column_titles = ['carrier_code', 'flight_number', 'unknown', 'unknown', 'unknown', 'unknown',\n",
    "           'origin_airport', 'destination_airport', 'date', 'unknown',\n",
    "           'scheduled_departure', 'crs_scheduled_departure', 'actual_departure',\n",
    "           'scheduled_arrival', 'crs_scheduled_arrival', 'actual_arrival',\n",
    "           'oag_crs_departure_difference', 'oag_crs_arrival_difference',\n",
    "           'scheduled_elapsed_time', 'actual_elapsed_time', 'departure_delay', 'arrival_delay',\n",
    "           'elapsed_time_difference', 'wheels_off_time', 'wheels_on_time', 'tail_number',\n",
    "           'taxi_out_time', 'taxi_in_time', 'total_in_air_time', 'cancelled_code',\n",
    "           'delay_carrier', 'delay_weather', 'delay_national_aviation_system', 'delay_security',\n",
    "           'delay_late_aircarft_arrival', 'unknown', 'actual_elapsed_time_to_diverted_airport', 'unknown',\n",
    "           'no_diverted_airports', 'diverted_airport_code', 'wheels_on_diverted_airport',\n",
    "           'total_time_away_gate_diverted_airport', 'longest_period_away_gate_diverted_airport',\n",
    "           'wheels_off_diverted_airport']\n",
    "# set column titles\n",
    "air_df.columns = column_titles + ['unknown' for _ in range(len(air_df.columns) - len(column_titles))]\n",
    "# keep useful columns\n",
    "air_df = air_df[['carrier_code', 'flight_number', 'origin_airport', 'destination_airport', 'date', \n",
    "                'scheduled_departure', 'actual_departure', 'scheduled_arrival', 'actual_arrival',\n",
    "               'scheduled_elapsed_time', 'tail_number', \n",
    "               'departure_delay', 'arrival_delay', 'delay_carrier', 'delay_weather', 'delay_national_aviation_system', \n",
    "               'delay_security', 'delay_late_aircarft_arrival', 'cancelled_code']]"
   ]
  },
  {
   "cell_type": "code",
   "execution_count": 89,
   "metadata": {},
   "outputs": [],
   "source": [
    "# split date column into 4 columns: year, month, day and weekday\n",
    "import datetime\n",
    "\n",
    "air_df['date'] = pd.to_datetime(air_df['date'])\n",
    "air_df['year'] = air_df['date'].dt.strftime('%Y')\n",
    "air_df['month'] = air_df['date'].dt.strftime('%m')\n",
    "air_df['day'] = air_df['date'].dt.strftime('%d')\n",
    "air_df['weekday'] = air_df['date'].dt.dayofweek\n",
    "air_df['date'] = air_df['date'].dt.date\n",
    "# air_df = air_df.drop(columns = ['date'])"
   ]
  },
  {
   "cell_type": "code",
   "execution_count": 90,
   "metadata": {},
   "outputs": [],
   "source": [
    "def split_time(air_df, column_name):\n",
    "    air_df[column_name] = air_df[column_name].astype(str).replace('0', np.nan).str.zfill(4).str.replace('^24', '00', regex=True) \n",
    "    air_df[column_name] = pd.to_datetime(air_df[column_name], format='%H%M')\n",
    "    if 'arrival' in column_name:\n",
    "        air_df['extra'] = pd.to_timedelta((air_df['scheduled_departure_dt'].dt.time > air_df[column_name].dt.time)\n",
    "                                      .map({False: 0, True: 1}), unit='d')\n",
    "        air_df[column_name + '_dt'] = pd.to_datetime((air_df.date + air_df['extra']).astype(str) + \n",
    "                                                     ' ' + air_df[column_name].dt.time.astype(str), errors='coerce')\n",
    "        air_df = air_df.drop(columns=['extra'])\n",
    "    else:\n",
    "        air_df[column_name + '_dt'] = pd.to_datetime(air_df.date.astype(str) + \n",
    "                                                     ' ' + air_df[column_name].dt.time.astype(str), errors='coerce')\n",
    "    air_df = air_df.drop(columns=[column_name])\n",
    "    return air_df\n",
    "air_df = split_time(air_df, 'scheduled_departure')\n",
    "air_df = split_time(air_df, 'scheduled_arrival')\n",
    "air_df = split_time(air_df, 'actual_departure')\n",
    "air_df = split_time(air_df, 'actual_arrival')"
   ]
  },
  {
   "cell_type": "code",
   "execution_count": 91,
   "metadata": {},
   "outputs": [],
   "source": [
    "# fill NaN values in cancelled_code column with 0\n",
    "air_df.cancelled_code = air_df.cancelled_code.fillna(value='N')"
   ]
  },
  {
   "cell_type": "code",
   "execution_count": 92,
   "metadata": {},
   "outputs": [],
   "source": [
    "air_df.to_csv('ontime_05_2019.csv', index=False)"
   ]
  },
  {
   "cell_type": "code",
   "execution_count": 93,
   "metadata": {},
   "outputs": [
    {
     "name": "stdout",
     "output_type": "stream",
     "text": [
      "<class 'pandas.core.frame.DataFrame'>\n",
      "RangeIndex: 694336 entries, 0 to 694335\n",
      "Data columns (total 23 columns):\n",
      " #   Column                          Non-Null Count   Dtype         \n",
      "---  ------                          --------------   -----         \n",
      " 0   carrier_code                    694336 non-null  object        \n",
      " 1   flight_number                   694336 non-null  object        \n",
      " 2   origin_airport                  694336 non-null  object        \n",
      " 3   destination_airport             694336 non-null  object        \n",
      " 4   date                            694336 non-null  object        \n",
      " 5   scheduled_elapsed_time          694336 non-null  object        \n",
      " 6   tail_number                     692586 non-null  object        \n",
      " 7   departure_delay                 694336 non-null  object        \n",
      " 8   arrival_delay                   694336 non-null  object        \n",
      " 9   delay_carrier                   694336 non-null  object        \n",
      " 10  delay_weather                   694336 non-null  object        \n",
      " 11  delay_national_aviation_system  694336 non-null  object        \n",
      " 12  delay_security                  694336 non-null  object        \n",
      " 13  delay_late_aircarft_arrival     694336 non-null  object        \n",
      " 14  cancelled_code                  694336 non-null  object        \n",
      " 15  year                            694336 non-null  object        \n",
      " 16  month                           694336 non-null  object        \n",
      " 17  day                             694336 non-null  object        \n",
      " 18  weekday                         694336 non-null  int64         \n",
      " 19  scheduled_departure_dt          694336 non-null  datetime64[ns]\n",
      " 20  scheduled_arrival_dt            694336 non-null  datetime64[ns]\n",
      " 21  actual_departure_dt             680769 non-null  datetime64[ns]\n",
      " 22  actual_arrival_dt               679914 non-null  datetime64[ns]\n",
      "dtypes: datetime64[ns](4), int64(1), object(18)\n",
      "memory usage: 121.8+ MB\n"
     ]
    }
   ],
   "source": [
    "air_df.info()"
   ]
  },
  {
   "cell_type": "code",
   "execution_count": 94,
   "metadata": {},
   "outputs": [],
   "source": [
    "import glob, os\n",
    "import pandas as pd"
   ]
  },
  {
   "cell_type": "code",
   "execution_count": 95,
   "metadata": {},
   "outputs": [],
   "source": [
    "wdf = pd.concat(map(pd.read_csv, glob.glob(os.path.join('data', 'weather-data', '2019', \"*.csv\"))))\n",
    "wdf['DATE'] = pd.to_datetime(wdf['DATE'])"
   ]
  },
  {
   "cell_type": "code",
   "execution_count": 96,
   "metadata": {},
   "outputs": [
    {
     "name": "stdout",
     "output_type": "stream",
     "text": [
      "<class 'pandas.core.frame.DataFrame'>\n",
      "Int64Index: 3952678 entries, 0 to 8739\n",
      "Data columns (total 8 columns):\n",
      " #   Column                    Dtype         \n",
      "---  ------                    -----         \n",
      " 0   STATION                   object        \n",
      " 1   DATE                      datetime64[ns]\n",
      " 2   HourlyDryBulbTemperature  float64       \n",
      " 3   HourlyPrecipitation       float64       \n",
      " 4   HourlyStationPressure     float64       \n",
      " 5   HourlyVisibility          float64       \n",
      " 6   HourlyWindSpeed           float64       \n",
      " 7   iata_code                 object        \n",
      "dtypes: datetime64[ns](1), float64(5), object(2)\n",
      "memory usage: 271.4+ MB\n"
     ]
    }
   ],
   "source": [
    "wdf.info()"
   ]
  },
  {
   "cell_type": "code",
   "execution_count": 97,
   "metadata": {},
   "outputs": [],
   "source": [
    "def add_weather_data(air_df, wdf, scheduled_col, airport_col):\n",
    "    air_df_s = air_df.rename(columns={scheduled_col: 'DATE'}).sort_values(by=['DATE'])\n",
    "    wdf_s = wdf.rename(columns={'iata_code': airport_col}).sort_values(by=['DATE'])\n",
    "    merged = pd.merge_asof(air_df_s, wdf_s, on='DATE', by=airport_col, direction='nearest')\n",
    "    merged = merged.rename(columns={'DATE': scheduled_col})\n",
    "    return merged"
   ]
  },
  {
   "cell_type": "code",
   "execution_count": 98,
   "metadata": {},
   "outputs": [],
   "source": [
    "merged = add_weather_data(air_df, wdf, 'scheduled_departure_dt', 'origin_airport')\n",
    "merged = add_weather_data(merged, wdf, 'scheduled_arrival_dt', 'destination_airport')\n",
    "# merged = merged.drop(columns=['date', 'STATION'])\n",
    "merged.to_csv('merged-05-2019.csv', index=False)"
   ]
  },
  {
   "cell_type": "code",
   "execution_count": 27,
   "metadata": {},
   "outputs": [
    {
     "name": "stdout",
     "output_type": "stream",
     "text": [
      "<class 'pandas.core.frame.DataFrame'>\n",
      "Int64Index: 655104 entries, 0 to 655103\n",
      "Data columns (total 35 columns):\n",
      " #   Column                          Non-Null Count   Dtype         \n",
      "---  ------                          --------------   -----         \n",
      " 0   carrier_code                    655104 non-null  object        \n",
      " 1   flight_number                   655104 non-null  object        \n",
      " 2   origin_airport                  655104 non-null  object        \n",
      " 3   destination_airport             655104 non-null  object        \n",
      " 4   date                            655104 non-null  object        \n",
      " 5   scheduled_elapsed_time          655104 non-null  object        \n",
      " 6   tail_number                     653795 non-null  object        \n",
      " 7   departure_delay                 655104 non-null  object        \n",
      " 8   arrival_delay                   655104 non-null  object        \n",
      " 9   delay_carrier                   655104 non-null  object        \n",
      " 10  delay_weather                   655104 non-null  object        \n",
      " 11  delay_national_aviation_system  655104 non-null  object        \n",
      " 12  delay_security                  655104 non-null  object        \n",
      " 13  delay_late_aircarft_arrival     655104 non-null  object        \n",
      " 14  cancelled_code                  655104 non-null  object        \n",
      " 15  year                            655104 non-null  object        \n",
      " 16  month                           655104 non-null  object        \n",
      " 17  day                             655104 non-null  object        \n",
      " 18  weekday                         655104 non-null  int64         \n",
      " 19  scheduled_departure_dt          655104 non-null  datetime64[ns]\n",
      " 20  scheduled_arrival_dt            655104 non-null  datetime64[ns]\n",
      " 21  actual_departure_dt             649788 non-null  datetime64[ns]\n",
      " 22  actual_arrival_dt               649314 non-null  datetime64[ns]\n",
      " 23  STATION_x                       654890 non-null  object        \n",
      " 24  HourlyDryBulbTemperature_x      654890 non-null  float64       \n",
      " 25  HourlyPrecipitation_x           653994 non-null  float64       \n",
      " 26  HourlyStationPressure_x         654890 non-null  float64       \n",
      " 27  HourlyVisibility_x              654890 non-null  float64       \n",
      " 28  HourlyWindSpeed_x               654890 non-null  float64       \n",
      " 29  STATION_y                       654889 non-null  object        \n",
      " 30  HourlyDryBulbTemperature_y      654889 non-null  float64       \n",
      " 31  HourlyPrecipitation_y           653993 non-null  float64       \n",
      " 32  HourlyStationPressure_y         654889 non-null  float64       \n",
      " 33  HourlyVisibility_y              654889 non-null  float64       \n",
      " 34  HourlyWindSpeed_y               654889 non-null  float64       \n",
      "dtypes: datetime64[ns](4), float64(10), int64(1), object(20)\n",
      "memory usage: 179.9+ MB\n"
     ]
    }
   ],
   "source": [
    "merged.info()"
   ]
  },
  {
   "cell_type": "code",
   "execution_count": 28,
   "metadata": {},
   "outputs": [
    {
     "data": {
      "text/plain": [
       "0         0.0\n",
       "1         0.0\n",
       "2         0.0\n",
       "3         0.0\n",
       "4         0.0\n",
       "         ... \n",
       "655099    0.0\n",
       "655100    0.0\n",
       "655101    0.0\n",
       "655102    0.0\n",
       "655103    0.0\n",
       "Name: HourlyPrecipitation_x, Length: 655104, dtype: float64"
      ]
     },
     "execution_count": 28,
     "metadata": {},
     "output_type": "execute_result"
    }
   ],
   "source": [
    "merged['HourlyPrecipitation_x'].fillna(method='ffill')"
   ]
  },
  {
   "cell_type": "code",
   "execution_count": null,
   "metadata": {},
   "outputs": [],
   "source": []
  }
 ],
 "metadata": {
  "kernelspec": {
   "display_name": "Python 3",
   "language": "python",
   "name": "python3"
  },
  "language_info": {
   "codemirror_mode": {
    "name": "ipython",
    "version": 3
   },
   "file_extension": ".py",
   "mimetype": "text/x-python",
   "name": "python",
   "nbconvert_exporter": "python",
   "pygments_lexer": "ipython3",
   "version": "3.8.2"
  }
 },
 "nbformat": 4,
 "nbformat_minor": 4
}
